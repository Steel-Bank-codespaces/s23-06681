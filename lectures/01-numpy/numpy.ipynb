{
 "cells": [
  {
   "cell_type": "markdown",
   "metadata": {},
   "source": [
    "## Introduction to data files\n",
    "\n",
    "\n",
    "\n"
   ]
  },
  {
   "cell_type": "markdown",
   "metadata": {},
   "source": [
    "Today we are going to jump right into loading data from files into numpy arrays. Once we have the arrays, then we will then start learning how to use them.\n",
    "\n",
    "\n",
    "\n"
   ]
  },
  {
   "cell_type": "markdown",
   "metadata": {},
   "source": [
    "## Loading data from a text file\n",
    "\n",
    "\n",
    "\n"
   ]
  },
  {
   "cell_type": "markdown",
   "metadata": {},
   "source": [
    "Usually, data will be in a file, and we need to read it in. There are *many* data formats to get familiar with, and *many* ways to read them in. Let's start by looking at data from a Raman spectrometer.\n",
    "\n",
    "In this directory there is a file called 01-raman.txt. The file name suggests it is Raman data, but only because of its name. The extension *suggests* this is text data, but does not tell us the format.\n",
    "\n",
    "*You cannot in general rely on the extension to tell you what format a file is in. That is an advertisement, and only a convention that is used. You can rename a file and its extension at any time and not change the data.*\n",
    "\n",
    "It is not obvious what is in the file. Unless you made the file, or someone has told you what is in it, the only thing you can do is inspect the file manually. Let's look at the number of lines and the first 10 lines here.\n",
    "\n",
    "A conventional way to do this is in a shell with the `head` command. In Jupyter you can prefix a line with `!` to indicate it is a shell command\n",
    "\n",
    "\n",
    "\n"
   ]
  },
  {
   "cell_type": "code",
   "execution_count": 1,
   "metadata": {},
   "outputs": [
    {
     "name": "stdout",
     "output_type": "stream",
     "text": [
      "500\t294.37869\n",
      "500.39374\t288.922\n",
      "500.78751\t286.06622\n",
      "501.18124\t275.22284\n",
      "501.57501\t275.11938\n",
      "501.96875\t287.81372\n",
      "502.36252\t299.50803\n",
      "502.75626\t285.56567\n",
      "503.15002\t292.69519\n",
      "503.54376\t295.33951\n"
     ]
    }
   ],
   "source": [
    "! head raman.txt\n",
    "\n"
   ]
  },
  {
   "cell_type": "markdown",
   "metadata": {},
   "source": [
    "Alternatively, you can use a magic cell. Here instead of the first few lines, we look at the last few lines with the `tail` command.\n",
    "\n"
   ]
  },
  {
   "cell_type": "code",
   "execution_count": 2,
   "metadata": {},
   "outputs": [
    {
     "name": "stdout",
     "output_type": "stream",
     "text": [
      "3496.4563\t85.720917\n",
      "3496.8501\t84.727882\n",
      "3497.2437\t87.016724\n",
      "3497.6375\t86.635017\n",
      "3498.0313\t86.534706\n",
      "3498.425\t86.151878\n",
      "3498.8188\t85.178947\n",
      "3499.2124\t87.969734\n",
      "3499.6062\t83.638931\n",
      "3500\t84.009064\n"
     ]
    }
   ],
   "source": [
    "%%bash\n",
    "tail raman.txt\n",
    "\n"
   ]
  },
  {
   "cell_type": "code",
   "execution_count": 3,
   "metadata": {},
   "outputs": [
    {
     "name": "stdout",
     "output_type": "stream",
     "text": [
      "/home/jupyter-jkitchin@andrew.cm-11dd7/s23-06681/lectures/01-numpy\n"
     ]
    }
   ],
   "source": [
    "! pwd"
   ]
  },
  {
   "cell_type": "markdown",
   "metadata": {},
   "source": [
    "We can also do that in Python by opening the file, reading the lines and then closing the file. We print the number of lines and the first 10 here.\n",
    "\n"
   ]
  },
  {
   "cell_type": "code",
   "execution_count": 5,
   "metadata": {},
   "outputs": [
    {
     "name": "stdout",
     "output_type": "stream",
     "text": [
      "7620 lines in the file\n",
      "['500\\t294.37869\\n', '500.39374\\t288.922\\n', '500.78751\\t286.06622\\n', '501.18124\\t275.22284\\n', '501.57501\\t275.11938\\n', '501.96875\\t287.81372\\n', '502.36252\\t299.50803\\n', '502.75626\\t285.56567\\n', '503.15002\\t292.69519\\n', '503.54376\\t295.33951\\n']\n",
      "3496.4563\t85.720917\n",
      "3496.8501\t84.727882\n",
      "3497.2437\t87.016724\n",
      "3497.6375\t86.635017\n",
      "3498.0313\t86.534706\n",
      "3498.425\t86.151878\n",
      "3498.8188\t85.178947\n",
      "3499.2124\t87.969734\n",
      "3499.6062\t83.638931\n",
      "3500\t84.009064\n",
      "\n"
     ]
    }
   ],
   "source": [
    "f = open('raman.txt')\n",
    "lines = f.readlines()\n",
    "f.close()\n",
    "\n",
    "print(f'{len(lines)} lines in the file')\n",
    "print(lines[0:10])\n",
    "print(''.join(lines[-10:]))\n",
    "\n"
   ]
  },
  {
   "cell_type": "markdown",
   "metadata": {},
   "source": [
    "You might notice the \"\\t\" and \"\\n\" characters. The first is a tab, and the second is a new line (the new line is what defines a line, each line ends with this character). This looks like a *tab-delimited* text file, with two columns where the numbers are separated by tabs. Unfortunately, there is no information about *what* the columns are. You have to know from some other context. This file is from a Raman spectrometer, and the first column is the wavenumber, and the second column is the intensity.\n",
    "\n",
    "It is important that you remember to close the file. If you are reading lots of files, you can run into operating system errors if you open too many open files. Python is at your service with a *context manager*. This approach will *automatically* close the file when it goes of scope.\n",
    "\n",
    "\n",
    "\n"
   ]
  },
  {
   "cell_type": "code",
   "execution_count": 10,
   "metadata": {},
   "outputs": [
    {
     "data": {
      "text/plain": [
       "'/home/jupyter-jkitchin@andrew.cm-11dd7/s23-06681/lectures/01-numpy'"
      ]
     },
     "execution_count": 10,
     "metadata": {},
     "output_type": "execute_result"
    }
   ],
   "source": [
    "import os\n",
    "cwd = os.getcwd()\n",
    "cwd"
   ]
  },
  {
   "cell_type": "code",
   "execution_count": 16,
   "metadata": {},
   "outputs": [
    {
     "name": "stdout",
     "output_type": "stream",
     "text": [
      "Inside: False\n",
      "Outside: True\n"
     ]
    }
   ],
   "source": [
    "with open('raman.txt') as f:\n",
    "    # f is only open and available inside this body\n",
    "    lines = f.readlines()\n",
    "    print(f'Inside: {f.closed}')\n",
    "\n",
    "print(f'Outside: {f.closed}')\n",
    "\n"
   ]
  },
  {
   "cell_type": "markdown",
   "metadata": {},
   "source": [
    "### Simple loading into numpy\n",
    "\n",
    "\n",
    "\n"
   ]
  },
  {
   "cell_type": "markdown",
   "metadata": {},
   "source": [
    "There is an easy way for us to read this file so we can get the data into Python for analysis, via `np.loadtxt`. Let's start with the simplest method. We simply use the filename as the only argument.\n",
    "\n",
    "\n",
    "\n"
   ]
  },
  {
   "cell_type": "code",
   "execution_count": 21,
   "metadata": {},
   "outputs": [
    {
     "data": {
      "text/plain": [
       "array([[ 500.      ,  294.37869 ],\n",
       "       [ 500.39374 ,  288.922   ],\n",
       "       [ 500.78751 ,  286.06622 ],\n",
       "       ...,\n",
       "       [3499.2124  ,   87.969734],\n",
       "       [3499.6062  ,   83.638931],\n",
       "       [3500.      ,   84.009064]])"
      ]
     },
     "execution_count": 21,
     "metadata": {},
     "output_type": "execute_result"
    }
   ],
   "source": [
    "import numpy as np\n",
    "data = np.loadtxt('raman.txt')\n",
    "data\n",
    "\n"
   ]
  },
  {
   "cell_type": "markdown",
   "metadata": {},
   "source": [
    "We can see the shape here, which confirms that we have read the number of lines, and that there are two columns.\n",
    "\n",
    "\n",
    "\n"
   ]
  },
  {
   "cell_type": "code",
   "execution_count": 22,
   "metadata": {},
   "outputs": [
    {
     "data": {
      "text/plain": [
       "(7620, 2)"
      ]
     },
     "execution_count": 22,
     "metadata": {},
     "output_type": "execute_result"
    }
   ],
   "source": [
    "data.shape\n",
    "\n"
   ]
  },
  {
   "cell_type": "markdown",
   "metadata": {},
   "source": [
    "It is often helpful to separate this array into variables. The first column is the wavenumber and the second column is the intensity. We use indexing to extract these into variables. This is a 2D array, and we index using a notation of `[row, col]` where `row` indicates which row(s) we want, and `col` indicates which column(s) we want. If you use a `:` it means all of them. Indexing can be very complex ([https://docs.scipy.org/doc/numpy/reference/arrays.indexing.html](https://docs.scipy.org/doc/numpy/reference/arrays.indexing.html)), and we will return to it many times as we do more and more sophisticated things.\n",
    "\n",
    "\n",
    "\n"
   ]
  },
  {
   "cell_type": "code",
   "execution_count": 23,
   "metadata": {},
   "outputs": [
    {
     "data": {
      "text/plain": [
       "((7620,), (7620,))"
      ]
     },
     "execution_count": 23,
     "metadata": {},
     "output_type": "execute_result"
    }
   ],
   "source": [
    "wavenumber = data[:, 0]\n",
    "intensity = data[:, 1]\n",
    "\n",
    "(wavenumber.shape, intensity.shape)\n",
    "\n"
   ]
  },
  {
   "cell_type": "markdown",
   "metadata": {},
   "source": [
    "Now, these variables are 1D arrays.\n",
    "\n",
    "Alternatively, you can *unpack* an array. When you iterate over an array, you iterate over its rows. If we transpose this data, we will change it from two columns with a lot of rows into two rows with a lot of columns.\n",
    "\n",
    "\n",
    "\n"
   ]
  },
  {
   "cell_type": "code",
   "execution_count": 24,
   "metadata": {},
   "outputs": [
    {
     "data": {
      "text/plain": [
       "((7620,), (7620,))"
      ]
     },
     "execution_count": 24,
     "metadata": {},
     "output_type": "execute_result"
    }
   ],
   "source": [
    "wavenumber, intensity = data.T\n",
    "(wavenumber.shape, intensity.shape)\n",
    "\n"
   ]
  },
  {
   "cell_type": "markdown",
   "metadata": {},
   "source": [
    "Here are some examples of indexing these arrays:\n",
    "\n",
    "\n",
    "\n"
   ]
  },
  {
   "cell_type": "code",
   "execution_count": 25,
   "metadata": {},
   "outputs": [
    {
     "data": {
      "text/plain": [
       "(500.0, 3500.0)"
      ]
     },
     "execution_count": 25,
     "metadata": {},
     "output_type": "execute_result"
    }
   ],
   "source": [
    "# first and last element\n",
    "(wavenumber[0], wavenumber[-1])\n",
    "\n"
   ]
  },
  {
   "cell_type": "code",
   "execution_count": 26,
   "metadata": {},
   "outputs": [
    {
     "data": {
      "text/plain": [
       "(array([294.37869, 288.922  , 286.06622, 275.22284, 275.11938]),\n",
       " array([86.151878, 85.178947, 87.969734, 83.638931, 84.009064]))"
      ]
     },
     "execution_count": 26,
     "metadata": {},
     "output_type": "execute_result"
    }
   ],
   "source": [
    "# first five and last 5 elements\n",
    "(intensity[0:5], intensity[-5:])\n",
    "\n"
   ]
  },
  {
   "cell_type": "markdown",
   "metadata": {},
   "source": [
    "You might be tempted to get the last five elements like this, but it is wrong. Remember in indexing the last element in the slice is not included. Since you specify -1 in the slice it means up to *but not including* the last element. In contrast, `[-5:]` means from the fifth to last element to the end, *including the end*.\n",
    "\n",
    "\n",
    "\n"
   ]
  },
  {
   "cell_type": "code",
   "execution_count": 27,
   "metadata": {},
   "outputs": [
    {
     "data": {
      "text/plain": [
       "array([86.151878, 85.178947, 87.969734, 83.638931])"
      ]
     },
     "execution_count": 27,
     "metadata": {},
     "output_type": "execute_result"
    }
   ],
   "source": [
    "intensity[-5:-1]\n",
    "\n"
   ]
  },
  {
   "cell_type": "code",
   "execution_count": 30,
   "metadata": {},
   "outputs": [
    {
     "data": {
      "text/plain": [
       "750196.8775462944"
      ]
     },
     "execution_count": 30,
     "metadata": {},
     "output_type": "execute_result"
    }
   ],
   "source": [
    "np.var(wavenumber)"
   ]
  },
  {
   "cell_type": "markdown",
   "metadata": {},
   "source": [
    "There are even fancier ways to slice this, e.g. to get every other point or every nth point, or even a set of selected points. We will see these later.\n",
    "\n",
    "That is a lot of data. How do we see what is in it? Visualization.\n",
    "\n",
    "\n",
    "\n"
   ]
  },
  {
   "cell_type": "markdown",
   "metadata": {},
   "source": [
    "### Simple visualization of the data\n",
    "\n",
    "\n",
    "\n"
   ]
  },
  {
   "cell_type": "markdown",
   "metadata": {},
   "source": [
    "[matplotlib](https://matplotlib.org/) is the primary plotting tool we will use. There are a few others that are popular, especially [seaborn](https://seaborn.pydata.org/). It is good advice that when you want to make a plot, a good way to do it is find an example plot like it and see if you can adapt that code to your data.\n",
    "\n",
    "-   **matplotlib sample plots:** [https://matplotlib.org/tutorials/introductory/sample_plots.html](https://matplotlib.org/tutorials/introductory/sample_plots.html)\n",
    "-   **matplotlib gallery:** [https://matplotlib.org/gallery/index.html](https://matplotlib.org/gallery/index.html)\n",
    "-   **seaborn gallery:** [https://seaborn.pydata.org/examples/index.html](https://seaborn.pydata.org/examples/index.html)\n",
    "\n",
    "There are many other plotting libraries, e.g. [plotly](https://plot.ly/) and [altair](https://altair-viz.github.io/gallery/index.html#gallery-category-interactive-charts) that are more suitable for web graphics. These have much more complex APIs and it takes a long time to get familiar with them.\n",
    "\n",
    "We will start simple. Let's start by telling the notebook how to use matplotlib and then load it. The line starting with a % is called a [magic command](https://ipython.readthedocs.io/en/stable/interactive/magics.html), and it is only valid in Jupyter-Python, or a jupyter notebook. It is *not* valid Python. It tells the Jupyter kernel how to handle plots, and in this case we are telling it to put the plot inline as a PNG image in the notebook.\n",
    "\n",
    "\n",
    "\n"
   ]
  },
  {
   "cell_type": "code",
   "execution_count": 31,
   "metadata": {},
   "outputs": [],
   "source": [
    "import matplotlib.pyplot as plt\n",
    "\n"
   ]
  },
  {
   "cell_type": "markdown",
   "metadata": {},
   "source": [
    "We can make a plot as simple as this:\n",
    "\n",
    "\n",
    "\n"
   ]
  },
  {
   "cell_type": "code",
   "execution_count": 32,
   "metadata": {},
   "outputs": [
    {
     "data": {
      "image/png": "[encoded data removed]",
      "text/plain": [
       "<Figure size 432x288 with 1 Axes>"
      ]
     },
     "metadata": {
      "needs_background": "light"
     },
     "output_type": "display_data"
    }
   ],
   "source": [
    "plt.plot(wavenumber, intensity)\n",
    "plt.xlabel('Wavenumber')\n",
    "plt.ylabel('Intensity');\n",
    "\n"
   ]
  },
  {
   "cell_type": "markdown",
   "metadata": {},
   "source": [
    "Now, we have a graphical representation of this data set. You can interact with it in the notebook. You can see the coordinates, and zoom in on regions. Suppose we want to make sure we *reproducibly* zoom in to a region though. That requires us to script it so that you have a written record of what you did.\n",
    "\n",
    "Let's make a plot of a subset of the spectrum, say the points where the wavenumber is at least 1000, and less than 1500. To do that, we need a way to select the data subset. We can use indexing for this purpose. We define a *boolean* array where it is True for the points we want, and False for the ones we do not want. The comparison operators will do this, and the logical & operator combines the two conditions. Note these are all elementwise operations.\n",
    "\n",
    "\n",
    "\n"
   ]
  },
  {
   "cell_type": "code",
   "execution_count": 33,
   "metadata": {},
   "outputs": [
    {
     "data": {
      "text/plain": [
       "array([False, False, False, ..., False, False, False])"
      ]
     },
     "execution_count": 33,
     "metadata": {},
     "output_type": "execute_result"
    }
   ],
   "source": [
    "# indices of points where 1000 >= wavenumber > 1500\n",
    "# True means it meets the criteria, False means it does not\n",
    "ind = (wavenumber >= 1000) & (wavenumber < 1500)\n",
    "ind\n",
    "\n"
   ]
  },
  {
   "cell_type": "code",
   "execution_count": 35,
   "metadata": {},
   "outputs": [
    {
     "data": {
      "image/png": "[encoded data removed]",
      "text/plain": [
       "<Figure size 432x288 with 1 Axes>"
      ]
     },
     "metadata": {
      "needs_background": "light"
     },
     "output_type": "display_data"
    }
   ],
   "source": [
    "plt.plot(ind);"
   ]
  },
  {
   "cell_type": "markdown",
   "metadata": {},
   "source": [
    "These two arrays have the same shape, that is we evaluated the condition on every single point.\n",
    "\n",
    "\n",
    "\n"
   ]
  },
  {
   "cell_type": "code",
   "execution_count": 36,
   "metadata": {},
   "outputs": [
    {
     "data": {
      "text/plain": [
       "((7620,), (7620,))"
      ]
     },
     "execution_count": 36,
     "metadata": {},
     "output_type": "execute_result"
    }
   ],
   "source": [
    "ind.shape, wavenumber.shape\n",
    "\n"
   ]
  },
  {
   "cell_type": "markdown",
   "metadata": {},
   "source": [
    "How many points did we get? We can find out by counting the number of True values. In Python, True=1, and False=0.\n",
    "\n",
    "\n",
    "\n"
   ]
  },
  {
   "cell_type": "code",
   "execution_count": 40,
   "metadata": {},
   "outputs": [
    {
     "data": {
      "text/plain": [
       "3"
      ]
     },
     "execution_count": 40,
     "metadata": {},
     "output_type": "execute_result"
    }
   ],
   "source": [
    "True + False + True + True \n",
    "\n"
   ]
  },
  {
   "cell_type": "markdown",
   "metadata": {},
   "source": [
    "So, we get the number of True values just by summing them here.\n",
    "\n",
    "\n",
    "\n"
   ]
  },
  {
   "cell_type": "code",
   "execution_count": 41,
   "metadata": {},
   "outputs": [
    {
     "data": {
      "text/plain": [
       "1270"
      ]
     },
     "execution_count": 41,
     "metadata": {},
     "output_type": "execute_result"
    }
   ],
   "source": [
    "np.sum(ind)\n",
    "\n"
   ]
  },
  {
   "cell_type": "markdown",
   "metadata": {},
   "source": [
    "We can also plot the values like this:\n",
    "\n",
    "\n",
    "\n"
   ]
  },
  {
   "cell_type": "code",
   "execution_count": 42,
   "metadata": {},
   "outputs": [
    {
     "data": {
      "image/png": "[encoded data removed]",
      "text/plain": [
       "<Figure size 432x288 with 1 Axes>"
      ]
     },
     "metadata": {
      "needs_background": "light"
     },
     "output_type": "display_data"
    }
   ],
   "source": [
    "plt.plot(wavenumber, ind)\n",
    "plt.xlabel('wavenumber')\n",
    "plt.ylabel('ind');\n",
    "\n"
   ]
  },
  {
   "cell_type": "markdown",
   "metadata": {},
   "source": [
    "These are all ways to check that we have the indices we want. Now we use that array to select the *portion* of the data we want. When we use the Boolean array to index with, the result is a shorter array containing only values where the Boolean array was True.\n",
    "\n",
    "\n",
    "\n"
   ]
  },
  {
   "cell_type": "code",
   "execution_count": 43,
   "metadata": {},
   "outputs": [
    {
     "data": {
      "text/plain": [
       "(1270,)"
      ]
     },
     "execution_count": 43,
     "metadata": {},
     "output_type": "execute_result"
    }
   ],
   "source": [
    "wavenumber[ind].shape\n",
    "\n"
   ]
  },
  {
   "cell_type": "markdown",
   "metadata": {},
   "source": [
    "We have to index *both* the x and y data to make this plot, because we can only plot arrays with the matching dimensions.\n",
    "\n",
    "\n",
    "\n"
   ]
  },
  {
   "cell_type": "code",
   "execution_count": 46,
   "metadata": {},
   "outputs": [
    {
     "data": {
      "image/png": "[encoded data removed]",
      "text/plain": [
       "<Figure size 432x288 with 1 Axes>"
      ]
     },
     "metadata": {
      "needs_background": "light"
     },
     "output_type": "display_data"
    }
   ],
   "source": [
    "plt.figure()\n",
    "plt.plot(wavenumber[ind], intensity[ind])\n",
    "plt.xlabel('Wavenumber')\n",
    "plt.ylabel('Intensity');\n",
    "\n"
   ]
  },
  {
   "cell_type": "markdown",
   "metadata": {},
   "source": [
    "### Summary\n",
    "\n",
    "\n",
    "\n"
   ]
  },
  {
   "cell_type": "markdown",
   "metadata": {},
   "source": [
    "There was a lot of explanation above, so the brevity of this code may have been lost. Here is what we need to read the data and plot it (assuming you have already done the imports).\n",
    "\n",
    "\n",
    "\n"
   ]
  },
  {
   "cell_type": "code",
   "execution_count": 47,
   "metadata": {},
   "outputs": [
    {
     "data": {
      "image/png": "[encoded data removed]",
      "text/plain": [
       "<Figure size 432x288 with 1 Axes>"
      ]
     },
     "metadata": {
      "needs_background": "light"
     },
     "output_type": "display_data"
    }
   ],
   "source": [
    "data = np.loadtxt('raman.txt')\n",
    "\n",
    "wavenumber, intensity = data.T  # the transpose has data in rows for unpacking\n",
    "ind = (wavenumber >= 1000) & (wavenumber < 1500)\n",
    "\n",
    "plt.figure()\n",
    "plt.plot(wavenumber[ind], intensity[ind])\n",
    "plt.xlabel('Wavenumber')\n",
    "plt.ylabel('Intensity');\n",
    "\n"
   ]
  },
  {
   "cell_type": "markdown",
   "metadata": {},
   "source": [
    "In this simple example we have learned how to:\n",
    "\n",
    "1.  Retrieve data from a url into a local file\n",
    "2.  Read a local file of tab-delimited data into numpy arrays\n",
    "3.  Visualize the arrays\n",
    "4.  Select a subset of the arrays and visualize the subset.\n",
    "\n",
    "\n",
    "\n"
   ]
  },
  {
   "cell_type": "markdown",
   "metadata": {},
   "source": [
    "## Data formats\n",
    "\n",
    "\n",
    "\n"
   ]
  },
  {
   "cell_type": "markdown",
   "metadata": {},
   "source": [
    "The data in the previous example was loaded from a tab-delimited text file. There are many other kinds of files you might have to read from.\n",
    "\n",
    "\n",
    "\n"
   ]
  },
  {
   "cell_type": "markdown",
   "metadata": {},
   "source": [
    "### Simple delimited text files\n",
    "\n",
    "\n",
    "\n"
   ]
  },
  {
   "cell_type": "markdown",
   "metadata": {},
   "source": [
    "In a delimited text file, the data is represented in each line, with the values separated by a *delimiter*. In the tab-delimited data, tab characters are the separators. The other common delimiter is a comma, and these files are often called comma-separated value (CSV) files. For now, we limit the discussion to files containing numbers that are separated by commas.\n",
    "\n",
    "\n",
    "\n"
   ]
  },
  {
   "cell_type": "code",
   "execution_count": 48,
   "metadata": {},
   "outputs": [
    {
     "name": "stdout",
     "output_type": "stream",
     "text": [
      "7620\n",
      "['5.000000000000000000e+02,2.943786900000000060e+02\\n', '5.003937399999999798e+02,2.889220000000000255e+02\\n', '5.007875099999999975e+02,2.860662199999999871e+02\\n', '5.011812400000000025e+02,2.752228400000000192e+02\\n', '5.015750100000000202e+02,2.751193799999999783e+02\\n', '5.019687500000000000e+02,2.878137199999999893e+02\\n', '5.023625200000000177e+02,2.995080300000000193e+02\\n', '5.027562599999999975e+02,2.855656700000000114e+02\\n', '5.031500199999999836e+02,2.926951900000000251e+02\\n', '5.035437600000000202e+02,2.953395100000000184e+02\\n']\n"
     ]
    }
   ],
   "source": [
    "with open('raman.csv') as f:\n",
    "    lines = f.readlines()\n",
    "\n",
    "print(len(lines))\n",
    "print(lines[0:10])\n",
    "\n"
   ]
  },
  {
   "cell_type": "markdown",
   "metadata": {},
   "source": [
    "You can see the numbers in each line are now separated by commas. `np.loadtxt` works for this file too, but we have to specify that the delimiter is a comma. See the [documentation](https://docs.scipy.org/doc/numpy/reference/generated/numpy.loadtxt.html) on `np.loadtxt` for more options.\n",
    "\n",
    "Note: CSV is surprisingly complex, and there is a [dedicated library](https://docs.python.org/3/library/csv.html) for parsing it. We will stick to simple numerical csv files, which are easy to load in numpy.\n",
    "\n",
    "\n",
    "\n"
   ]
  },
  {
   "cell_type": "code",
   "execution_count": 49,
   "metadata": {},
   "outputs": [
    {
     "data": {
      "text/plain": [
       "array([[ 500.      ,  294.37869 ],\n",
       "       [ 500.39374 ,  288.922   ],\n",
       "       [ 500.78751 ,  286.06622 ],\n",
       "       ...,\n",
       "       [3499.2124  ,   87.969734],\n",
       "       [3499.6062  ,   83.638931],\n",
       "       [3500.      ,   84.009064]])"
      ]
     },
     "execution_count": 49,
     "metadata": {},
     "output_type": "execute_result"
    }
   ],
   "source": [
    "np.loadtxt('raman.csv', delimiter=',')\n",
    "\n"
   ]
  },
  {
   "cell_type": "code",
   "execution_count": 53,
   "metadata": {},
   "outputs": [
    {
     "data": {
      "text/plain": [
       "array([[ 500.      ,  294.37869 ],\n",
       "       [ 500.39374 ,  288.922   ],\n",
       "       [ 500.78751 ,  286.06622 ],\n",
       "       ...,\n",
       "       [3499.2124  ,   87.969734],\n",
       "       [3499.6062  ,   83.638931],\n",
       "       [3500.      ,   84.009064]])"
      ]
     },
     "execution_count": 53,
     "metadata": {},
     "output_type": "execute_result"
    }
   ],
   "source": [
    "# This is why we don't like to parse these ourselves\n",
    "data = []\n",
    "with open('raman.csv') as f:\n",
    "    for line in f:\n",
    "        fields = line.split(',')\n",
    "        data += [[float(x) for x in fields]]\n",
    "data = np.array(data)\n",
    "data"
   ]
  },
  {
   "cell_type": "markdown",
   "metadata": {},
   "source": [
    "Let's do one more thing that is convenient here, which is we directly *unpack* the columns into variable names:\n",
    "\n",
    "\n",
    "\n"
   ]
  },
  {
   "cell_type": "code",
   "execution_count": 54,
   "metadata": {},
   "outputs": [
    {
     "data": {
      "image/png": "[encoded data removed]",
      "text/plain": [
       "<Figure size 432x288 with 1 Axes>"
      ]
     },
     "metadata": {
      "needs_background": "light"
     },
     "output_type": "display_data"
    }
   ],
   "source": [
    "wave, intensity = np.loadtxt('raman.csv', delimiter=',', unpack=True)\n",
    "plt.plot(wave, intensity)\n",
    "plt.xlabel('Wavenumber')\n",
    "plt.ylabel('intensity');\n",
    "\n"
   ]
  },
  {
   "cell_type": "markdown",
   "metadata": {},
   "source": [
    "### more complex delimited files\n",
    "\n",
    "\n",
    "\n"
   ]
  },
  {
   "cell_type": "markdown",
   "metadata": {},
   "source": [
    "This data is located at [https://www.itl.nist.gov/div898/handbook/datasets/MODEL-4_4_4.DAT](https://www.itl.nist.gov/div898/handbook/datasets/MODEL-4_4_4.DAT). There is a copy of the file in this directory.\n",
    "\n",
    "If we examine the first few lines of this file, it appears that the first two lines are considered headers that tell you what is in the file. We need to skip these when reading the data. Also, each line appears as a string, with the values lining up in columns. This is sometimes called a fixed delimiter file.\n",
    "\n",
    "\n",
    "\n"
   ]
  },
  {
   "cell_type": "code",
   "execution_count": 56,
   "metadata": {},
   "outputs": [
    {
     "name": "stdout",
     "output_type": "stream",
     "text": [
      " Run          Ambient                            Fitted\n",
      "Order  Day  Temperature  Temperature  Pressure    Value    Residual\n",
      " 1      1      23.820      54.749      225.066   222.920     2.146\n",
      " 2      1      24.120      23.323      100.331    99.411     0.920\n",
      " 3      1      23.434      58.775      230.863   238.744    -7.881\n"
     ]
    }
   ],
   "source": [
    "! head -n 5 p-t.dat"
   ]
  },
  {
   "cell_type": "code",
   "execution_count": 55,
   "metadata": {},
   "outputs": [
    {
     "name": "stdout",
     "output_type": "stream",
     "text": [
      " Run          Ambient                            Fitted\n",
      "Order  Day  Temperature  Temperature  Pressure    Value    Residual\n",
      " 1      1      23.820      54.749      225.066   222.920     2.146\n",
      " 2      1      24.120      23.323      100.331    99.411     0.920\n",
      " 3      1      23.434      58.775      230.863   238.744    -7.881\n",
      "\n"
     ]
    }
   ],
   "source": [
    "with open('p-t.dat') as f:\n",
    "    print(''.join(f.readlines()[0:5]))\n",
    "\n"
   ]
  },
  {
   "cell_type": "markdown",
   "metadata": {},
   "source": [
    "I did something kind of fancy there. First, we read the lines and slice out the first 5 of them. That gives us a list of 5 lines. Then, I rejoin them so we get a single string, and then I printed it. That is to avoid getting two newlines (one from the line, and one from the print). We can tell print not to add a new line like this.\n",
    "\n",
    "\n",
    "\n"
   ]
  },
  {
   "cell_type": "code",
   "execution_count": 57,
   "metadata": {},
   "outputs": [
    {
     "name": "stdout",
     "output_type": "stream",
     "text": [
      " Run          Ambient                            Fitted\n",
      "Order  Day  Temperature  Temperature  Pressure    Value    Residual\n",
      " 1      1      23.820      54.749      225.066   222.920     2.146\n",
      " 2      1      24.120      23.323      100.331    99.411     0.920\n",
      " 3      1      23.434      58.775      230.863   238.744    -7.881\n"
     ]
    }
   ],
   "source": [
    "with open('p-t.dat') as f:\n",
    "    for line in f.readlines()[0:5]:\n",
    "        print(line, end='')\n",
    "\n"
   ]
  },
  {
   "cell_type": "markdown",
   "metadata": {},
   "source": [
    "Either way, you can see there are two non-data lines here. We can still load this file with `np.loadtxt` we just tell it to skip the first two lines.\n",
    "\n",
    "\n",
    "\n"
   ]
  },
  {
   "cell_type": "code",
   "execution_count": 65,
   "metadata": {},
   "outputs": [
    {
     "data": {
      "image/png": "[encoded data removed]",
      "text/plain": [
       "<Figure size 432x288 with 1 Axes>"
      ]
     },
     "metadata": {
      "needs_background": "light"
     },
     "output_type": "display_data"
    }
   ],
   "source": [
    "d = np.loadtxt('p-t.dat', skiprows=2)\n",
    "d, d.shape\n",
    "\n",
    "plt.plot(d[:, 4], d[:, 3], 'b.')\n",
    "plt.xlabel('Pressure')\n",
    "plt.ylabel('Temperature');\n"
   ]
  },
  {
   "cell_type": "markdown",
   "metadata": {},
   "source": [
    "You may note, however, that the first two columns are floats, and not integers. We can fix that (if it matters), at the cost of some complexity. We specify the format of each column in the `dtype` argument. This leads to a structured data array ([https://docs.scipy.org/doc/numpy/user/basics.rec.html](https://docs.scipy.org/doc/numpy/user/basics.rec.html)).\n",
    "\n",
    "The dtype formats are documented at [https://docs.scipy.org/doc/numpy/reference/arrays.dtypes.html#arrays-dtypes-constructing](https://docs.scipy.org/doc/numpy/reference/arrays.dtypes.html#arrays-dtypes-constructing). The ones we use here are for 32-bit integers and floats.\n",
    "\n",
    "\n",
    "\n"
   ]
  },
  {
   "cell_type": "code",
   "execution_count": 66,
   "metadata": {},
   "outputs": [
    {
     "data": {
      "text/plain": [
       "(array([( 1, 1, 23.82 , 54.749, 225.066, 222.92 ,  2.146),\n",
       "        ( 2, 1, 24.12 , 23.323, 100.331,  99.411,  0.92 ),\n",
       "        ( 3, 1, 23.434, 58.775, 230.863, 238.744, -7.881),\n",
       "        ( 4, 1, 23.993, 25.854, 106.16 , 109.359, -3.199),\n",
       "        ( 5, 1, 23.375, 68.297, 277.502, 276.165,  1.336),\n",
       "        ( 6, 1, 23.233, 37.481, 148.314, 155.056, -6.741),\n",
       "        ( 7, 1, 24.162, 49.542, 197.562, 202.456, -4.895),\n",
       "        ( 8, 1, 23.667, 34.101, 138.537, 141.77 , -3.232),\n",
       "        ( 9, 1, 24.056, 33.901, 137.969, 140.983, -3.014),\n",
       "        (10, 1, 22.786, 29.242, 117.41 , 122.674, -5.263),\n",
       "        (11, 2, 23.785, 39.506, 164.442, 163.013,  1.429),\n",
       "        (12, 2, 22.987, 43.004, 181.044, 176.759,  4.285),\n",
       "        (13, 2, 23.799, 53.226, 222.179, 216.933,  5.246),\n",
       "        (14, 2, 23.661, 54.467, 227.01 , 221.813,  5.198),\n",
       "        (15, 2, 23.852, 57.549, 232.496, 233.925, -1.429),\n",
       "        (16, 2, 23.379, 61.204, 253.557, 248.288,  5.269),\n",
       "        (17, 2, 24.146, 31.489, 139.894, 131.506,  8.388),\n",
       "        (18, 2, 24.187, 68.476, 273.931, 276.871, -2.94 ),\n",
       "        (19, 2, 24.159, 51.144, 207.969, 208.753, -0.784),\n",
       "        (20, 2, 23.803, 68.774, 280.205, 278.04 ,  2.165),\n",
       "        (21, 3, 24.381, 55.35 , 227.06 , 225.282,  1.779),\n",
       "        (22, 3, 24.027, 44.692, 180.605, 183.396, -2.791),\n",
       "        (23, 3, 24.342, 50.995, 206.229, 208.167, -1.938),\n",
       "        (24, 3, 23.67 , 21.602,  91.464,  92.649, -1.186),\n",
       "        (25, 3, 24.246, 54.673, 223.869, 222.622,  1.247),\n",
       "        (26, 3, 25.082, 41.449, 172.91 , 170.651,  2.259),\n",
       "        (27, 3, 24.575, 35.451, 152.073, 147.075,  4.998),\n",
       "        (28, 3, 23.803, 42.989, 169.427, 176.703, -7.276),\n",
       "        (29, 3, 24.66 , 48.599, 192.561, 198.748, -6.188),\n",
       "        (30, 3, 24.097, 21.448,  94.448,  92.042,  2.406),\n",
       "        (31, 4, 22.816, 56.982, 222.794, 231.697, -8.902),\n",
       "        (32, 4, 24.167, 47.901, 199.003, 196.008,  2.996),\n",
       "        (33, 4, 22.712, 40.285, 168.668, 166.077,  2.592),\n",
       "        (34, 4, 23.611, 25.609, 109.387, 108.397,  0.99 ),\n",
       "        (35, 4, 23.354, 22.971,  98.445,  98.029,  0.416),\n",
       "        (36, 4, 23.669, 25.838, 110.987, 109.295,  1.692),\n",
       "        (37, 4, 23.965, 49.127, 202.662, 200.826,  1.835),\n",
       "        (38, 4, 22.917, 54.936, 224.773, 223.653,  1.12 ),\n",
       "        (39, 4, 23.546, 50.917, 216.058, 207.859,  8.199),\n",
       "        (40, 4, 24.45 , 41.976, 171.469, 172.72 , -1.251)],\n",
       "       dtype=[('run order', '<i4'), ('day', '<i4'), ('ambient temperature', '<f4'), ('temperature', '<f4'), ('pressure', '<f4'), ('fitted value', '<f4'), ('residual', '<f4')]),\n",
       " (40,))"
      ]
     },
     "execution_count": 66,
     "metadata": {},
     "output_type": "execute_result"
    }
   ],
   "source": [
    "d = np.loadtxt('p-t.dat', skiprows=2,\n",
    "               dtype={'names': ('run order', 'day', 'ambient temperature', 'temperature', 'pressure', 'fitted value', 'residual'),\n",
    "                      'formats': ('i4', 'i4', 'f4', 'f4', 'f4', 'f4', 'f4')})\n",
    "d, d.shape\n",
    "\n"
   ]
  },
  {
   "cell_type": "markdown",
   "metadata": {},
   "source": [
    "This array should look different to you. First, each row is in (), and the dtype at the end looks different, with names and formats.\n",
    "\n",
    "One benefit of this is you can now use human readable names to select the various columns. We will return to this idea later when we learn about Pandas.\n",
    "\n",
    "\n",
    "\n"
   ]
  },
  {
   "cell_type": "code",
   "execution_count": 67,
   "metadata": {},
   "outputs": [
    {
     "data": {
      "image/png": "[encoded data removed]",
      "text/plain": [
       "<Figure size 432x288 with 1 Axes>"
      ]
     },
     "metadata": {
      "needs_background": "light"
     },
     "output_type": "display_data"
    }
   ],
   "source": [
    "plt.plot(d['temperature'], d['pressure'], 'b. ')\n",
    "plt.xlabel('Temperatue')\n",
    "plt.ylabel('pressure');\n",
    "\n"
   ]
  },
  {
   "cell_type": "markdown",
   "metadata": {},
   "source": [
    "Note that this is not a 2D array, even though it looks like one! It is considered a 1D array of records.\n",
    "\n",
    "\n",
    "\n"
   ]
  },
  {
   "cell_type": "code",
   "execution_count": 70,
   "metadata": {},
   "outputs": [
    {
     "data": {
      "text/plain": [
       "((40,),\n",
       " numpy.ndarray,\n",
       " dtype([('run order', '<i4'), ('day', '<i4'), ('ambient temperature', '<f4'), ('temperature', '<f4'), ('pressure', '<f4'), ('fitted value', '<f4'), ('residual', '<f4')]))"
      ]
     },
     "execution_count": 70,
     "metadata": {},
     "output_type": "execute_result"
    }
   ],
   "source": [
    "d.shape, type(d), d.dtype\n",
    "\n"
   ]
  },
  {
   "cell_type": "markdown",
   "metadata": {},
   "source": [
    "It is not possible to slice this array like we did before. Instead we select columns by name.\n",
    "\n",
    "\n",
    "\n"
   ]
  },
  {
   "cell_type": "code",
   "execution_count": 71,
   "metadata": {},
   "outputs": [
    {
     "ename": "IndexError",
     "evalue": "too many indices for array: array is 1-dimensional, but 2 were indexed",
     "output_type": "error",
     "traceback": [
      "\u001b[0;31m---------------------------------------------------------------------------\u001b[0m",
      "\u001b[0;31mIndexError\u001b[0m                                Traceback (most recent call last)",
      "Input \u001b[0;32mIn [71]\u001b[0m, in \u001b[0;36m<cell line: 1>\u001b[0;34m()\u001b[0m\n\u001b[0;32m----> 1\u001b[0m \u001b[43md\u001b[49m\u001b[43m[\u001b[49m\u001b[43m:\u001b[49m\u001b[43m,\u001b[49m\u001b[43m \u001b[49m\u001b[38;5;241;43m4\u001b[39;49m\u001b[43m]\u001b[49m\n",
      "\u001b[0;31mIndexError\u001b[0m: too many indices for array: array is 1-dimensional, but 2 were indexed"
     ]
    }
   ],
   "source": [
    "d[:, 4]"
   ]
  },
  {
   "cell_type": "code",
   "execution_count": 72,
   "metadata": {},
   "outputs": [
    {
     "data": {
      "text/plain": [
       "array([54.749, 23.323, 58.775, 25.854, 68.297, 37.481, 49.542, 34.101,\n",
       "       33.901, 29.242, 39.506, 43.004, 53.226, 54.467, 57.549, 61.204,\n",
       "       31.489, 68.476, 51.144, 68.774, 55.35 , 44.692, 50.995, 21.602,\n",
       "       54.673, 41.449, 35.451, 42.989, 48.599, 21.448, 56.982, 47.901,\n",
       "       40.285, 25.609, 22.971, 25.838, 49.127, 54.936, 50.917, 41.976],\n",
       "      dtype=float32)"
      ]
     },
     "execution_count": 72,
     "metadata": {},
     "output_type": "execute_result"
    }
   ],
   "source": [
    "d['temperature']\n",
    "\n"
   ]
  },
  {
   "cell_type": "markdown",
   "metadata": {},
   "source": [
    "#### Summary\n",
    "\n",
    "\n",
    "\n"
   ]
  },
  {
   "cell_type": "markdown",
   "metadata": {},
   "source": [
    "This data file was a text file, with a *header* that described some information about the data. The data itself was still delimited, but each column had a different type of data, e.g. in this case integers and floats. Some files may also have string data in columns. As the data gets more heterogeneous, it gets more challenging to read it into variables. In the worst case scenario, you can write a custom data parser, but this is hard work that should usually be avoided if possible.\n",
    "\n",
    "\n",
    "\n"
   ]
  },
  {
   "cell_type": "code",
   "execution_count": 81,
   "metadata": {},
   "outputs": [
    {
     "data": {
      "text/plain": [
       "array([[ 54.749, 225.066],\n",
       "       [ 23.323, 100.331],\n",
       "       [ 58.775, 230.863],\n",
       "       [ 25.854, 106.16 ],\n",
       "       [ 68.297, 277.502],\n",
       "       [ 37.481, 148.314],\n",
       "       [ 49.542, 197.562],\n",
       "       [ 34.101, 138.537],\n",
       "       [ 33.901, 137.969],\n",
       "       [ 29.242, 117.41 ],\n",
       "       [ 39.506, 164.442],\n",
       "       [ 43.004, 181.044],\n",
       "       [ 53.226, 222.179],\n",
       "       [ 54.467, 227.01 ],\n",
       "       [ 57.549, 232.496],\n",
       "       [ 61.204, 253.557],\n",
       "       [ 31.489, 139.894],\n",
       "       [ 68.476, 273.931],\n",
       "       [ 51.144, 207.969],\n",
       "       [ 68.774, 280.205],\n",
       "       [ 55.35 , 227.06 ],\n",
       "       [ 44.692, 180.605],\n",
       "       [ 50.995, 206.229],\n",
       "       [ 21.602,  91.464],\n",
       "       [ 54.673, 223.869],\n",
       "       [ 41.449, 172.91 ],\n",
       "       [ 35.451, 152.073],\n",
       "       [ 42.989, 169.427],\n",
       "       [ 48.599, 192.561],\n",
       "       [ 21.448,  94.448],\n",
       "       [ 56.982, 222.794],\n",
       "       [ 47.901, 199.003],\n",
       "       [ 40.285, 168.668],\n",
       "       [ 25.609, 109.387],\n",
       "       [ 22.971,  98.445],\n",
       "       [ 25.838, 110.987],\n",
       "       [ 49.127, 202.662],\n",
       "       [ 54.936, 224.773],\n",
       "       [ 50.917, 216.058],\n",
       "       [ 41.976, 171.469]])"
      ]
     },
     "execution_count": 81,
     "metadata": {},
     "output_type": "execute_result"
    }
   ],
   "source": [
    "np.loadtxt('p-t.dat', usecols=[3, 4], skiprows=2)"
   ]
  },
  {
   "cell_type": "code",
   "execution_count": 80,
   "metadata": {},
   "outputs": [
    {
     "data": {
      "text/plain": [
       "[[54.749, 225.066],\n",
       " [23.323, 100.331],\n",
       " [58.775, 230.863],\n",
       " [25.854, 106.16],\n",
       " [68.297, 277.502],\n",
       " [37.481, 148.314],\n",
       " [49.542, 197.562],\n",
       " [34.101, 138.537],\n",
       " [33.901, 137.969],\n",
       " [29.242, 117.41],\n",
       " [39.506, 164.442],\n",
       " [43.004, 181.044],\n",
       " [53.226, 222.179],\n",
       " [54.467, 227.01],\n",
       " [57.549, 232.496],\n",
       " [61.204, 253.557],\n",
       " [31.489, 139.894],\n",
       " [68.476, 273.931],\n",
       " [51.144, 207.969],\n",
       " [68.774, 280.205],\n",
       " [55.35, 227.06],\n",
       " [44.692, 180.605],\n",
       " [50.995, 206.229],\n",
       " [21.602, 91.464],\n",
       " [54.673, 223.869],\n",
       " [41.449, 172.91],\n",
       " [35.451, 152.073],\n",
       " [42.989, 169.427],\n",
       " [48.599, 192.561],\n",
       " [21.448, 94.448],\n",
       " [56.982, 222.794],\n",
       " [47.901, 199.003],\n",
       " [40.285, 168.668],\n",
       " [25.609, 109.387],\n",
       " [22.971, 98.445],\n",
       " [25.838, 110.987],\n",
       " [49.127, 202.662],\n",
       " [54.936, 224.773],\n",
       " [50.917, 216.058],\n",
       " [41.976, 171.469]]"
      ]
     },
     "execution_count": 80,
     "metadata": {},
     "output_type": "execute_result"
    }
   ],
   "source": [
    "data = []\n",
    "with open('p-t.dat') as f:\n",
    "    f.readline()\n",
    "    f.readline()\n",
    "    for line in f:\n",
    "        fields = line.split()\n",
    "        #data += [[int(fields[0]), int(fields[1])] + [float(x) for x in fields[2:]]]\n",
    "        data += [[float(fields[3]), float(fields[4])]]  # eg if you only want columns 3,4\n",
    "data"
   ]
  },
  {
   "cell_type": "markdown",
   "metadata": {},
   "source": [
    "### json data\n",
    "\n",
    "\n",
    "\n"
   ]
  },
  {
   "cell_type": "markdown",
   "metadata": {},
   "source": [
    "json (javascript object notation) is another convenient data format ([https://www.json.org/json-en.html](https://www.json.org/json-en.html)). This data format stores data in a \"key=value\" format, and when you load it, you get a dictionary of the data. Let's see the first few characters of this file. Why the first few characters? A json file may be only one line as defined by newlines.\n",
    "\n",
    "\n",
    "\n"
   ]
  },
  {
   "cell_type": "code",
   "execution_count": 82,
   "metadata": {},
   "outputs": [
    {
     "name": "stdout",
     "output_type": "stream",
     "text": [
      "1\n"
     ]
    }
   ],
   "source": [
    "with open('raman.json') as f:\n",
    "    print(len(f.readlines()))\n",
    "\n"
   ]
  },
  {
   "cell_type": "markdown",
   "metadata": {},
   "source": [
    "But you can see there are a lot of characters:\n",
    "\n",
    "\n",
    "\n"
   ]
  },
  {
   "cell_type": "code",
   "execution_count": 83,
   "metadata": {},
   "outputs": [
    {
     "name": "stdout",
     "output_type": "stream",
     "text": [
      "165882\n"
     ]
    }
   ],
   "source": [
    "with open('raman.json') as f:\n",
    "    print(len(f.read()))\n",
    "\n"
   ]
  },
  {
   "cell_type": "markdown",
   "metadata": {},
   "source": [
    "Let's see the first 50 of the characters.\n",
    "\n",
    "\n",
    "\n"
   ]
  },
  {
   "cell_type": "code",
   "execution_count": 84,
   "metadata": {},
   "outputs": [
    {
     "name": "stdout",
     "output_type": "stream",
     "text": [
      "{\"wavenumber\": [500.0, 500.39374, 500.78751, 501.1\n"
     ]
    }
   ],
   "source": [
    "with open('raman.json') as f:\n",
    "    print(''.join(f.read()[0:50]))\n",
    "\n"
   ]
  },
  {
   "cell_type": "markdown",
   "metadata": {},
   "source": [
    "Here, \"wavenumber\" is a key, and it has a value (the thing on the other side of the :) that is an array of numbers. Luckily, it is easy to load this in Python with the json library.\n",
    "\n",
    "\n",
    "\n"
   ]
  },
  {
   "cell_type": "code",
   "execution_count": 91,
   "metadata": {},
   "outputs": [
    {
     "data": {
      "text/plain": [
       "array([ 500.     ,  500.39374,  500.78751, ..., 3499.2124 , 3499.6062 ,\n",
       "       3500.     ])"
      ]
     },
     "execution_count": 91,
     "metadata": {},
     "output_type": "execute_result"
    }
   ],
   "source": [
    "import json\n",
    "\n",
    "with open('raman.json') as f:\n",
    "    d = json.load(f)\n",
    "\n",
    "type(d), d.keys()\n",
    "np.array(d['wavenumber'])\n"
   ]
  },
  {
   "cell_type": "markdown",
   "metadata": {},
   "source": [
    "Note that this does not read the data into numpy arrays. We have a list for these instead. We can convert them to arrays if we need to.\n",
    "\n",
    "\n",
    "\n"
   ]
  },
  {
   "cell_type": "code",
   "execution_count": 88,
   "metadata": {},
   "outputs": [
    {
     "data": {
      "text/plain": [
       "list"
      ]
     },
     "execution_count": 88,
     "metadata": {},
     "output_type": "execute_result"
    }
   ],
   "source": [
    "type(d['wavenumber'])\n",
    "\n"
   ]
  },
  {
   "cell_type": "code",
   "execution_count": 89,
   "metadata": {},
   "outputs": [
    {
     "data": {
      "image/png": "[encoded data removed]",
      "text/plain": [
       "<Figure size 432x288 with 1 Axes>"
      ]
     },
     "metadata": {
      "needs_background": "light"
     },
     "output_type": "display_data"
    }
   ],
   "source": [
    "plt.plot(d['wavenumber'], d['intensity'])\n",
    "plt.xlabel('Wavenumber')\n",
    "plt.ylabel('Intensity');\n",
    "\n"
   ]
  },
  {
   "cell_type": "markdown",
   "metadata": {},
   "source": [
    "It is fine to plot with these lists, but if you need to do any array operations or analysis on them, you may need to convert them to arrays first (although many numpy functions work on lists just fine).\n",
    "\n",
    "\n",
    "\n"
   ]
  },
  {
   "cell_type": "markdown",
   "metadata": {},
   "source": [
    "### There are many more data formats\n",
    "\n",
    "\n",
    "\n"
   ]
  },
  {
   "cell_type": "markdown",
   "metadata": {},
   "source": [
    "There are many more formats. For most of these, there are standard libraries for reading them data into an array form that you can use. You should usually search for a library that can read your data first, rather than try to implement your own parser.\n",
    "\n",
    "-   **netcdf:** [https://unidata.github.io/netcdf4-python/netCDF4/index.html](https://unidata.github.io/netcdf4-python/netCDF4/index.html)\n",
    "-   **hdf5:** [https://www.h5py.org/](https://www.h5py.org/)\n",
    "-   **xml:** [https://docs.python.org/3/library/xml.html](https://docs.python.org/3/library/xml.html)\n",
    "-   **matlab .mat files:** [https://docs.scipy.org/doc/scipy/reference/generated/scipy.io.loadmat.html](https://docs.scipy.org/doc/scipy/reference/generated/scipy.io.loadmat.html)\n",
    "-   **binary data files:** [https://www.devdungeon.com/content/working-binary-data-python](https://www.devdungeon.com/content/working-binary-data-python)\n",
    "-   **scipy io routines:** [https://docs.scipy.org/doc/scipy/reference/io.html](https://docs.scipy.org/doc/scipy/reference/io.html)\n",
    "-   **molecular simulation files:** [https://wiki.fysik.dtu.dk/ase/ase/io/io.html#module-ase.io](https://wiki.fysik.dtu.dk/ase/ase/io/io.html#module-ase.io)\n",
    "-   **yaml:** [https://pyyaml.org/wiki/PyYAMLDocumentation](https://pyyaml.org/wiki/PyYAMLDocumentation)\n",
    "-   **config files:** [https://docs.python.org/3/library/configparser.html](https://docs.python.org/3/library/configparser.html)\n",
    "-   **Excel:** [https://openpyxl.readthedocs.io/en/stable/index.html](https://openpyxl.readthedocs.io/en/stable/index.html)\n",
    "\n",
    "\n",
    "\n"
   ]
  },
  {
   "cell_type": "markdown",
   "metadata": {},
   "source": [
    "## Summary\n",
    "\n",
    "\n",
    "\n"
   ]
  },
  {
   "cell_type": "markdown",
   "metadata": {},
   "source": [
    "Today the focus was on orienting ourselves to the main ideas of reading data files. These are:\n",
    "\n",
    "1.  What kind of data file is it?\n",
    "2.  Is there a library function that makes it easy to read?\n",
    "3.  How do you get the data into arrays and variables for further analysis.\n",
    "\n",
    "We also examined how to make simple visualizations of the data.\n",
    "\n",
    "\n",
    "\n"
   ]
  },
  {
   "cell_type": "code",
   "execution_count": 99,
   "metadata": {},
   "outputs": [
    {
     "data": {
      "text/plain": [
       "([1, 'a', 1, 'a'], (1, 2, 1, 2))"
      ]
     },
     "execution_count": 99,
     "metadata": {},
     "output_type": "execute_result"
    }
   ],
   "source": [
    "L = [ 1, 'a' ]\n",
    "\n",
    "T = (1, 2)\n",
    "\n",
    "aL = np.array([1, 2])\n",
    "\n",
    "2 * L, 2 * T"
   ]
  },
  {
   "cell_type": "code",
   "execution_count": 98,
   "metadata": {},
   "outputs": [
    {
     "data": {
      "text/plain": [
       "array([2, 4])"
      ]
     },
     "execution_count": 98,
     "metadata": {},
     "output_type": "execute_result"
    }
   ],
   "source": [
    " 2 * aL"
   ]
  },
  {
   "cell_type": "code",
   "execution_count": 100,
   "metadata": {},
   "outputs": [
    {
     "data": {
      "text/plain": [
       "[6, 'a']"
      ]
     },
     "execution_count": 100,
     "metadata": {},
     "output_type": "execute_result"
    }
   ],
   "source": [
    "L[0] = 6\n",
    "L"
   ]
  },
  {
   "cell_type": "code",
   "execution_count": 101,
   "metadata": {},
   "outputs": [
    {
     "ename": "TypeError",
     "evalue": "'tuple' object does not support item assignment",
     "output_type": "error",
     "traceback": [
      "\u001b[0;31m---------------------------------------------------------------------------\u001b[0m",
      "\u001b[0;31mTypeError\u001b[0m                                 Traceback (most recent call last)",
      "Input \u001b[0;32mIn [101]\u001b[0m, in \u001b[0;36m<cell line: 1>\u001b[0;34m()\u001b[0m\n\u001b[0;32m----> 1\u001b[0m \u001b[43mT\u001b[49m\u001b[43m[\u001b[49m\u001b[38;5;241;43m0\u001b[39;49m\u001b[43m]\u001b[49m \u001b[38;5;241m=\u001b[39m \u001b[38;5;241m6\u001b[39m\n",
      "\u001b[0;31mTypeError\u001b[0m: 'tuple' object does not support item assignment"
     ]
    }
   ],
   "source": [
    "T[0] = 6"
   ]
  },
  {
   "cell_type": "code",
   "execution_count": 103,
   "metadata": {},
   "outputs": [
    {
     "data": {
      "text/plain": [
       "0.30000000000000004"
      ]
     },
     "execution_count": 103,
     "metadata": {},
     "output_type": "execute_result"
    }
   ],
   "source": [
    "0.1 + 0.2"
   ]
  },
  {
   "cell_type": "code",
   "execution_count": null,
   "metadata": {},
   "outputs": [],
   "source": []
  }
 ],
 "metadata": {
  "kernelspec": {
   "display_name": "Python 3",
   "language": "python",
   "name": "python3"
  },
  "language_info": {
   "codemirror_mode": {
    "name": "ipython",
    "version": 3
   },
   "file_extension": ".py",
   "mimetype": "text/x-python",
   "name": "python",
   "nbconvert_exporter": "python",
   "pygments_lexer": "ipython3",
   "version": "3.9.7"
  },
  "org": null,
  "widgets": {
   "application/vnd.jupyter.widget-state+json": {
    "state": {},
    "version_major": 2,
    "version_minor": 0
   }
  }
 },
 "nbformat": 4,
 "nbformat_minor": 4
}
