{
 "cells": [
  {
   "cell_type": "markdown",
   "metadata": {
    "id": "yszasmXHjeRC"
   },
   "source": [
    "# Introduction assignment\n",
    "POINTS: 1\n",
    "\n",
    "Name: <font color=\"red\">Put your name here</font>\n",
    "\n"
   ]
  },
  {
   "cell_type": "markdown",
   "metadata": {
    "id": "L4qGR0GhhO60"
   },
   "source": [
    "# Text cells \n",
    "\n",
    "The goal of this section is to practice inserting text into Jupyter notebooks.\n",
    "\n",
    "Insert a new text cell after this one, and tell me something about yourself that you would like me to know. Paste a picture of yourself into the notebook.\n",
    "\n"
   ]
  },
  {
   "cell_type": "markdown",
   "metadata": {},
   "source": [
    "# Your programming and data science background\n",
    "In a new cell after this one, tell me about your programming and data science background.\n",
    "\n"
   ]
  },
  {
   "cell_type": "markdown",
   "metadata": {},
   "source": [
    "# Your goals for this course\n",
    "\n",
    "In a new cell after this one, tell me about what you want to learn in this class, and why you are interested in taking it.\n",
    "\n"
   ]
  },
  {
   "cell_type": "markdown",
   "metadata": {},
   "source": [
    "# Markdown \n",
    "\n",
    "Look up Euler's identity, and write it in mathematical form using Latex in a new Markdown cell.\n",
    "\n"
   ]
  },
  {
   "cell_type": "code",
   "execution_count": null,
   "metadata": {},
   "outputs": [],
   "source": [
    "\n",
    "\n"
   ]
  },
  {
   "cell_type": "markdown",
   "metadata": {},
   "source": [
    "# Python\n",
    "\n",
    "Make a plot of your favorite mathematical function.\n",
    "\n"
   ]
  },
  {
   "cell_type": "markdown",
   "metadata": {},
   "source": [
    "# Turning it in\n",
    "\n",
    "Run the cell below to generate a PDF file of your notebook. Download that PDF and turn it in through canvas.\n",
    "\n"
   ]
  },
  {
   "cell_type": "code",
   "execution_count": 1,
   "metadata": {
    "id": "XNwWubYOjGfd"
   },
   "outputs": [
    {
     "data": {
      "text/markdown": [
       "[Open introduction.pdf](introduction.pdf)"
      ],
      "text/plain": [
       "<IPython.core.display.Markdown object>"
      ]
     },
     "metadata": {},
     "output_type": "display_data"
    },
    {
     "data": {
      "text/html": [
       "from webpdf<br><a href=\"introduction.pdf\" download=\"introduction.pdf\">download introduction.pdf</a>"
      ],
      "text/plain": [
       "<IPython.core.display.HTML object>"
      ]
     },
     "metadata": {},
     "output_type": "display_data"
    }
   ],
   "source": [
    "from s23 import webpdf\n",
    "%webpdf\n",
    "\n"
   ]
  },
  {
   "cell_type": "code",
   "execution_count": null,
   "metadata": {},
   "outputs": [],
   "source": [
    "\n",
    "\n"
   ]
  }
 ],
 "metadata": {
  "colab": {
   "authorship_tag": "ABX9TyNoerJvTcb1kOeFD42BnsxH",
   "collapsed_sections": [],
   "name": "introduction.ipynb",
   "provenance": []
  },
  "kernelspec": {
   "display_name": "Python 3",
   "language": "python",
   "name": "python3"
  },
  "language_info": {
   "codemirror_mode": {
    "name": "ipython",
    "version": 3
   },
   "file_extension": ".py",
   "mimetype": "text/x-python",
   "name": "python",
   "nbconvert_exporter": "python",
   "pygments_lexer": "ipython3",
   "version": "3.9.7"
  },
  "widgets": {
   "application/vnd.jupyter.widget-state+json": {
    "state": {},
    "version_major": 2,
    "version_minor": 0
   }
  }
 },
 "nbformat": 4,
 "nbformat_minor": 4
}
